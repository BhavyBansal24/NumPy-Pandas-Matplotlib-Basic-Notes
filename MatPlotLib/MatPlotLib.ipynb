{
 "cells": [
  {
   "cell_type": "code",
   "execution_count": null,
   "source": [
    "import matplotlib.pyplot as plt"
   ],
   "outputs": [],
   "metadata": {}
  },
  {
   "cell_type": "code",
   "execution_count": null,
   "source": [
    "x = [1,2,3]\r\n",
    "y = [2,4,6]\r\n",
    "\r\n",
    "plt.scatter(x,y)\r\n",
    "plt.show()"
   ],
   "outputs": [],
   "metadata": {}
  },
  {
   "cell_type": "code",
   "execution_count": null,
   "source": [
    "plt.plot(x,y)\r\n",
    "plt.show()"
   ],
   "outputs": [],
   "metadata": {}
  },
  {
   "cell_type": "code",
   "execution_count": null,
   "source": [
    "plt.scatter(x,y)\r\n",
    "plt.plot(x,y)\r\n",
    "plt.show()"
   ],
   "outputs": [],
   "metadata": {}
  },
  {
   "cell_type": "code",
   "execution_count": null,
   "source": [
    "x2 = [3,4,5]\r\n",
    "y2 = [2,4,6]\r\n",
    "plt.plot(x,y , \"r-.\")\r\n",
    "plt.plot(x2,y2)\r\n",
    "plt.scatter(x,y)\r\n",
    "plt.scatter(x2,y2)\r\n",
    "plt.show()"
   ],
   "outputs": [],
   "metadata": {}
  },
  {
   "cell_type": "code",
   "execution_count": null,
   "source": [
    "# plot function x^3\r\n",
    "import numpy as np\r\n",
    "x = np.array([1,2,3,4])\r\n",
    "y = x ** 3\r\n",
    "plt.plot(x,y, \"y^\")\r\n",
    "plt.show()"
   ],
   "outputs": [],
   "metadata": {}
  },
  {
   "cell_type": "code",
   "execution_count": null,
   "source": [
    "# plot function x^3 more accurately\r\n",
    "import numpy as np\r\n",
    "x = np.arange(0, 5, 0.1)\r\n",
    "y = x ** 3\r\n",
    "plt.plot(x,y, \"bo\")\r\n",
    "plt.show()"
   ],
   "outputs": [],
   "metadata": {}
  },
  {
   "cell_type": "code",
   "execution_count": null,
   "source": [
    "# Solving MatPlotLib increase\r\n",
    "\r\n",
    "x = np.arange(0,39,2)\r\n",
    "y = 2**x\r\n",
    "plt.plot(x,y, \"g--\")\r\n",
    "plt.show()"
   ],
   "outputs": [],
   "metadata": {}
  },
  {
   "cell_type": "code",
   "execution_count": null,
   "source": [
    "# according to the question now the value we have to find must be \"25\" as from 25 only increase in graph start significntly"
   ],
   "outputs": [],
   "metadata": {}
  },
  {
   "cell_type": "markdown",
   "source": [
    "## Customizing Graphs"
   ],
   "metadata": {}
  },
  {
   "cell_type": "code",
   "execution_count": null,
   "source": [
    "# plot function x^3 more accurately\r\n",
    "import numpy as np\r\n",
    "x = np.arange(0, 5, 0.1)\r\n",
    "y = x ** 3\r\n",
    "y2 = x **2\r\n",
    "plt.plot(x,y, color = \"blue\", marker = \"o\", linewidth = 3, label = \"x^3\")\r\n",
    "\r\n",
    "plt.plot(x,y2, color = \"red\", marker = \"+\", linewidth = 1, label = \"x^2\")\r\n",
    "\r\n",
    "\r\n",
    "# labels and title to graph\r\n",
    "plt.ylabel(\"y\", color =\"green\", fontsize = 12)\r\n",
    "plt.xlabel(\"x\", color = \"green\", fontsize = 12)\r\n",
    "plt.title(\"Experimenting on Graphs\")\r\n",
    "#plt.axis([x',x,y',y])\r\n",
    "plt.axis([0,7,0,150])\r\n",
    "plt.text(4,80 , \"y = x^3\", fontsize = 12, color = \"red\", style = \"italic\" )  # can add text anywhere on graph\r\n",
    "plt.grid() # to get a grid over grapg\r\n",
    "plt.legend() # for label to work in plt.plot function\r\n",
    "plt.show()"
   ],
   "outputs": [],
   "metadata": {}
  },
  {
   "cell_type": "markdown",
   "source": [
    "## Bubble Graph\r\n"
   ],
   "metadata": {}
  },
  {
   "cell_type": "code",
   "execution_count": null,
   "source": [
    "year = np.arange(2012,2018)\r\n",
    "salary=[12,13,14,17,19,20]\r\n",
    "population = [80,120,300,700,1500,3200]"
   ],
   "outputs": [],
   "metadata": {}
  },
  {
   "cell_type": "code",
   "execution_count": null,
   "source": [
    "plt.scatter(year,salary, s = population, c = \"red\")\r\n",
    "plt.title(\"Bubble Graph\")\r\n",
    "plt.ylabel(\"salary\", fontsize = 16)\r\n",
    "plt.xlabel(\"year\", fontsize = 16)\r\n",
    "plt.show()"
   ],
   "outputs": [],
   "metadata": {}
  },
  {
   "cell_type": "code",
   "execution_count": null,
   "source": [
    "plt.scatter(year,salary, s = population, color = \"red\", alpha=0.5) # alpha provides transparancy\r\n",
    "plt.title(\"Bubble Graph\")\r\n",
    "plt.ylabel(\"salary\", fontsize = 16)\r\n",
    "plt.xlabel(\"year\", fontsize = 16)\r\n",
    "plt.show()"
   ],
   "outputs": [],
   "metadata": {}
  },
  {
   "cell_type": "code",
   "execution_count": null,
   "source": [
    "c = np.arange(0,6)\r\n",
    "plt.scatter(year,salary, s = population, c = c , alpha = 0.7, edgecolor = 'r')\r\n",
    "plt.title(\"Bubble Graph\")\r\n",
    "plt.ylabel(\"salary\", fontsize = 16)\r\n",
    "plt.xlabel(\"year\", fontsize = 16)\r\n",
    "plt.show()"
   ],
   "outputs": [],
   "metadata": {}
  },
  {
   "cell_type": "code",
   "execution_count": null,
   "source": [
    "c = np.arange(0,6)\r\n",
    "plt.scatter(year,salary, s = population, c = c , alpha = 0.7, edgecolor = 'r', marker='^')\r\n",
    "plt.title(\"Bubble Graph\")\r\n",
    "plt.ylabel(\"salary\", fontsize = 16)\r\n",
    "plt.xlabel(\"year\", fontsize = 16)\r\n",
    "plt.show()"
   ],
   "outputs": [],
   "metadata": {}
  },
  {
   "cell_type": "code",
   "execution_count": null,
   "source": [
    "# we can see that last value is getting out of the graph to solve this \r\n",
    "c = np.arange(0,6)\r\n",
    "plt.scatter(year,salary, s = population, c = c , alpha = 0.7, edgecolor = 'r')\r\n",
    "plt.title(\"Bubble Graph\")\r\n",
    "plt.ylabel(\"salary\", fontsize = 16)\r\n",
    "plt.axis([2012,2018,12,24])\r\n",
    "plt.xlabel(\"year\", fontsize = 16)\r\n",
    "plt.show()"
   ],
   "outputs": [],
   "metadata": {}
  },
  {
   "cell_type": "code",
   "execution_count": null,
   "source": [
    "c = np.arange(0,6)\r\n",
    "plt.scatter(year,salary, s = population, c = c , alpha = 0.7, edgecolor = 'r')\r\n",
    "plt.title(\"Bubble Graph\")\r\n",
    "plt.ylabel(\"salary\", fontsize = 16)\r\n",
    "plt.axis([2012,2018,12,24])\r\n",
    "plt.xlabel(\"year\", fontsize = 16)\r\n",
    "plt.text(2013 + 0.1,13 + 0.1, population[0], color = \"red\")\r\n",
    "plt.show()"
   ],
   "outputs": [],
   "metadata": {}
  },
  {
   "cell_type": "markdown",
   "source": [
    "## Pie Graphs"
   ],
   "metadata": {}
  },
  {
   "cell_type": "code",
   "execution_count": null,
   "source": [
    "labels = [\"A\",\"B\",\"C\", \"D\"]\r\n",
    "sizes = [3, 4, 6, 2]\r\n",
    "colors = [\"blue\", \"purple\", \"red\", \"pink\"]\r\n",
    "explode = [0.3,0,0.1,0]\r\n",
    "plt.title(\"split among classes\", fontsize = 16)\r\n",
    "plt.pie(sizes, colors = colors, labels = labels, autopct = \"%.2f%%\", explode = explode, counterclock=False, startangle=90)\r\n",
    "plt.axis(\"equal\")\r\n",
    "plt.show()"
   ],
   "outputs": [],
   "metadata": {}
  },
  {
   "cell_type": "markdown",
   "source": [
    "# Laptop Sales Pie Chart"
   ],
   "metadata": {}
  },
  {
   "cell_type": "code",
   "execution_count": null,
   "source": [
    "company = [\"HP\",\"Dell\", \"Lenovo\", \"Asus\", \"Apple\", \"Acer\"]\r\n",
    "sold = [20000,43000,15000,17000,22000,13000]\r\n",
    "plt.pie(sold,labels = company, explode = [0.1,0.2,0.1,0.2,0.1,0.2], autopct = \"%.1f\", counterclock = False, startangle = 90)\r\n",
    "plt.show()"
   ],
   "outputs": [],
   "metadata": {}
  },
  {
   "cell_type": "markdown",
   "source": [
    "## Histogram"
   ],
   "metadata": {}
  },
  {
   "cell_type": "code",
   "execution_count": null,
   "source": [
    "a = [1,2,3,4,1,3,4,2,1,1]\r\n",
    "plt.hist(a)\r\n",
    "plt.show()"
   ],
   "outputs": [],
   "metadata": {}
  },
  {
   "cell_type": "code",
   "execution_count": null,
   "source": [
    "b = [1,2,1,3,5,4,5,5,4,3,3,10,7,6,7,8,8,20,22,11,14]\r\n",
    "xt = np.arange(23)\r\n",
    "plt.xticks(xt)\r\n",
    "plt.hist(b, edgecolor = 'red')\r\n",
    "plt.show()"
   ],
   "outputs": [],
   "metadata": {}
  },
  {
   "cell_type": "code",
   "execution_count": null,
   "source": [
    "# we might observe now first tower is somewhat from 1 to 3.1, 2nd tower 3.1 to 5.2 and ....\r\n",
    "# why so??\r\n",
    "# cause of bins which is by defult set to max of 10 towers\r\n",
    "#whereas size of each bin is (max_no - min_no)/no_of_bins\r\n",
    "# i.e, 22-1/10(default) = 2.1\r\n",
    "#i.e, 1 + 2.1 = 3.1;\r\n",
    "# 3.1 + 2.1 = 5.2;  ......\r\n",
    "\r\n",
    "# for better graph lets change the bins "
   ],
   "outputs": [],
   "metadata": {}
  },
  {
   "cell_type": "code",
   "execution_count": null,
   "source": [
    "plt.xticks(xt)\r\n",
    "plt.hist(b, bins =25, edgecolor = 'red')\r\n",
    "plt.show()\r\n",
    "# now it can be seen from below, it become very shorter somewhat from 1 to 1.8 or 1.9\r\n",
    "# error => 22-1/25 = 21/25\r\n",
    "# calculating the required bin\r\n",
    "# 22-1/bins = 1, ie, bins = 21"
   ],
   "outputs": [],
   "metadata": {}
  },
  {
   "cell_type": "code",
   "execution_count": null,
   "source": [
    "plt.xticks(xt)\r\n",
    "plt.hist(b, bins =21, edgecolor = 'red')\r\n",
    "plt.show()"
   ],
   "outputs": [],
   "metadata": {}
  },
  {
   "cell_type": "code",
   "execution_count": null,
   "source": [
    "# now everything is exact, but a little issue, where to include \"2\", in first tower or in second tower \r\n",
    "# for that it is prearranged as:\r\n",
    "# [1,2) [2,3) [3,4) ......[20,21) [21,22], that is in last tower both 21 and 22 is included else everything is fine"
   ],
   "outputs": [],
   "metadata": {}
  },
  {
   "cell_type": "code",
   "execution_count": null,
   "source": [
    "# we can also customize a bin a bit more\r\n",
    "\r\n",
    "plt.xticks(xt)\r\n",
    "plt.hist(b, bins =[1,3,6,10,15,20] , edgecolor = 'black', label=\"histogram\")\r\n",
    "# in such way bins are included as [1,3) [3,6) ... [15,20]\r\n",
    "plt.grid()\r\n",
    "plt.legend()\r\n",
    "plt.show()"
   ],
   "outputs": [],
   "metadata": {}
  },
  {
   "cell_type": "markdown",
   "source": [
    "## Students Data Histogram"
   ],
   "metadata": {}
  },
  {
   "cell_type": "code",
   "execution_count": null,
   "source": [
    "height = [189,185,195,149,189,147,154,174,169,195,159,192,155,191,153,157,140,144,172,157] #(in cm)\r\n",
    "\r\n",
    "weight = [87,110,104,61,104,92,111,90,103,81,80,101,51,79,107,110,129,145,139,110] # (in kg)\r\n",
    "\r\n",
    "plt.hist(height, bins=5, edgecolor = \"black\")\r\n",
    "plt.show()"
   ],
   "outputs": [],
   "metadata": {}
  },
  {
   "cell_type": "code",
   "execution_count": null,
   "source": [
    "plt.hist(weight, bins =5, edgecolor = \"black\")\r\n",
    "plt.show()"
   ],
   "outputs": [],
   "metadata": {}
  },
  {
   "cell_type": "markdown",
   "source": [
    "## Bar Graphs"
   ],
   "metadata": {}
  },
  {
   "cell_type": "code",
   "execution_count": null,
   "source": [
    "year = [\"year-2012\", \"year -2013\", \"year-2014\", \"year-2015\", \"year-2016\", \"year-2017\"]\r\n",
    "population = [100,120,180,250,300,370]\r\n",
    "plt.bar(year,population)\r\n",
    "plt.show()"
   ],
   "outputs": [],
   "metadata": {}
  },
  {
   "cell_type": "code",
   "execution_count": null,
   "source": [
    "plt.bar(year,population, width = 0.6)\r\n",
    "plt.xticks(rotation = 40)\r\n",
    "plt.show()"
   ],
   "outputs": [],
   "metadata": {}
  }
 ],
 "metadata": {
  "orig_nbformat": 4,
  "language_info": {
   "name": "python",
   "version": "3.8.8",
   "mimetype": "text/x-python",
   "codemirror_mode": {
    "name": "ipython",
    "version": 3
   },
   "pygments_lexer": "ipython3",
   "nbconvert_exporter": "python",
   "file_extension": ".py"
  },
  "kernelspec": {
   "name": "python3",
   "display_name": "Python 3.8.8 64-bit ('base': conda)"
  },
  "interpreter": {
   "hash": "b3ba2566441a7c06988d0923437866b63cedc61552a5af99d1f4fb67d367b25f"
  }
 },
 "nbformat": 4,
 "nbformat_minor": 2
}